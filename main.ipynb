{
 "cells": [
  {
   "cell_type": "markdown",
   "metadata": {},
   "source": [
    "1 - Find website to get all E-Commerces\n",
    "\n",
    "2 - Get columns and data\n",
    "\n",
    "3 - Connect to SQL and create SQL Objects for them\n",
    "\n",
    "4 - Store in DataFrame\n",
    "\n",
    "5 - Store DataFrame into DB\n",
    "\n",
    "6 - Create reports for user to see periodically\n"
   ]
  },
  {
   "cell_type": "code",
   "execution_count": 74,
   "metadata": {},
   "outputs": [],
   "source": [
    "from bs4 import BeautifulSoup\n",
    "import requests\n",
    "##import pandas as pd\n",
    "import pyodbc\n",
    "import sqlite3\n",
    "from datetime import date\n",
    "##Email sender\n",
    "import smtplib\n",
    "from email.mime.multipart import MIMEMultipart\n",
    "from email.mime.text import MIMEText"
   ]
  },
  {
   "cell_type": "code",
   "execution_count": 75,
   "metadata": {},
   "outputs": [],
   "source": [
    "##Email variables\n",
    "sender_email = \"\"\n",
    "receiver_email = \"\"\n",
    "subject = \"Alerta de preço baixo!\"\n",
    "message = MIMEMultipart()\n",
    "message['From'] = sender_email\n",
    "message['To'] = receiver_email\n",
    "message['Subject'] = subject\n",
    "##\n",
    "current_date = date.today()\n",
    "connection = sqlite3.connect('webscrapping.db')\n",
    "cursor = connection.cursor()\n",
    "\n",
    "url_hidratante = 'https://br.loccitaneaubresil.com/pt-br/p/geleia-hidratante-desodorante-corporal-roma/BROBVS100547.html'\n",
    "page = requests.get(url_hidratante)\n",
    "soup = BeautifulSoup(page.text, 'html.parser')"
   ]
  },
  {
   "cell_type": "code",
   "execution_count": 76,
   "metadata": {},
   "outputs": [
    {
     "name": "stderr",
     "output_type": "stream",
     "text": [
      "C:\\Users\\Vitor Leandro\\AppData\\Local\\Temp\\ipykernel_19652\\3225391519.py:6: DeprecationWarning: The default date adapter is deprecated as of Python 3.12; see the sqlite3 documentation for suggested replacement recipes\n",
      "  cursor.execute('''\n"
     ]
    },
    {
     "name": "stdout",
     "output_type": "stream",
     "text": [
      "Email sent successfully!\n"
     ]
    }
   ],
   "source": [
    "product_name1 = 'Geleia Hidratante Desodorante Corporal Romã' #soup.find_all('div', class_ = 'pdp-product-name')\n",
    "product_price_place = soup.find_all('span', class_ = 'value')\n",
    "product_price = 75##product_price_place[0].get('content') # Gets content from span value\n",
    "product_price_converted = float(product_price)\n",
    "\n",
    "cursor.execute('''\n",
    "INSERT INTO ProductPrice (pdName, pdPrice, pdDate)\n",
    "VALUES (?, ?, ?)\n",
    "''', (product_name1, product_price_converted, current_date))\n",
    "\n",
    "connection.commit()\n",
    "connection.close()\n",
    "\n",
    "if product_price_converted < 80:\n",
    "    body = f\"O valor de {product_name1} está abaixo de 80 reais, seu valor atualmente está em R$ {product_price_converted:.2f}, aproveite!\"\n",
    "    message.attach(MIMEText(body, 'plain'))\n",
    "    #Email sending\n",
    "    smtp_server = \"smtp.gmail.com\"\n",
    "    smtp_port = 587\n",
    "    password = \"\" \n",
    "    \n",
    "    try:\n",
    "        # Connect to the server and log in\n",
    "        server = smtplib.SMTP(smtp_server, smtp_port)\n",
    "        server.starttls()  # Secure the connection\n",
    "        server.login(sender_email, password)\n",
    "        \n",
    "        # Send the email\n",
    "        server.send_message(message)\n",
    "        print(\"Email sent successfully!\")\n",
    "        \n",
    "    except Exception as e:\n",
    "        print(f\"Failed to send email: {e}\")\n",
    "    finally:\n",
    "        server.quit()\n"
   ]
  }
 ],
 "metadata": {
  "kernelspec": {
   "display_name": "Python 3",
   "language": "python",
   "name": "python3"
  },
  "language_info": {
   "codemirror_mode": {
    "name": "ipython",
    "version": 3
   },
   "file_extension": ".py",
   "mimetype": "text/x-python",
   "name": "python",
   "nbconvert_exporter": "python",
   "pygments_lexer": "ipython3",
   "version": "3.12.2"
  }
 },
 "nbformat": 4,
 "nbformat_minor": 2
}
